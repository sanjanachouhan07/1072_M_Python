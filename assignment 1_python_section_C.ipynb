{
  "cells": [
    {
      "cell_type": "markdown",
      "source": [],
      "metadata": {
        "id": "GkSAKdA3gF45"
      }
    },
    {
      "cell_type": "markdown",
      "source": [
        "Write a Python program to swap two variables using a temporary variable andwithout using a temporary variable?"
      ],
      "metadata": {
        "id": "ATHP5vxsOW0y"
      }
    },
    {
      "cell_type": "code",
      "source": [
        "# Swapping two variables in Python\n",
        "\n",
        "# Using a temporary variable\n",
        "print(\"---- Using a Temporary Variable ----\")\n",
        "a = 10\n",
        "b = 20\n",
        "print(\"Before Swap: a =\", a, \", b =\", b)\n",
        "\n",
        "temp = a\n",
        "a = b\n",
        "b = temp\n",
        "\n",
        "print(\"After Swap: a =\", a, \", b =\", b)\n",
        "\n",
        "\n",
        "# Without using a temporary variable\n",
        "print(\"\\n---- Without Using a Temporary Variable ----\")\n",
        "x = 5\n",
        "y = 15\n",
        "print(\"Before Swap: x =\", x, \", y =\", y)\n",
        "\n",
        "# Method 1: Using arithmetic operators\n",
        "x = x + y\n",
        "y = x - y\n",
        "x = x - y\n",
        "\n",
        "print(\"After Swap (using arithmetic): x =\", x, \", y =\", y)\n",
        "\n",
        "# Method 2: Using Python's tuple unpacking (best way in Python)\n",
        "x, y = y, x\n",
        "print(\"After Swap (using tuple unpacking): x =\", x, \", y =\", y)\n"
      ],
      "metadata": {
        "id": "zjek5y6KgGlI",
        "colab": {
          "base_uri": "https://localhost:8080/"
        },
        "outputId": "191895ad-efab-47de-9b80-760d24a620bc"
      },
      "execution_count": null,
      "outputs": [
        {
          "output_type": "stream",
          "name": "stdout",
          "text": [
            "---- Using a Temporary Variable ----\n",
            "Before Swap: a = 10 , b = 20\n",
            "After Swap: a = 20 , b = 10\n",
            "\n",
            "---- Without Using a Temporary Variable ----\n",
            "Before Swap: x = 5 , y = 15\n",
            "After Swap (using arithmetic): x = 15 , y = 5\n",
            "After Swap (using tuple unpacking): x = 5 , y = 15\n"
          ]
        }
      ]
    },
    {
      "cell_type": "markdown",
      "source": [
        "will it give error on output s=\"hello world\" [1] print(s) ?"
      ],
      "metadata": {
        "id": "t4Y169JmQ1T7"
      }
    },
    {
      "cell_type": "code",
      "source": [
        "s=\"hello world\" [1]\n",
        "print(s)"
      ],
      "metadata": {
        "colab": {
          "base_uri": "https://localhost:8080/"
        },
        "id": "vuKyXAUnPzH7",
        "outputId": "87e1355f-531a-4dd2-d4f2-f06746fdaf0a"
      },
      "execution_count": null,
      "outputs": [
        {
          "output_type": "stream",
          "name": "stdout",
          "text": [
            "e\n"
          ]
        }
      ]
    },
    {
      "cell_type": "markdown",
      "source": [
        "print a right angle triangle using while loop ?"
      ],
      "metadata": {
        "id": "ZmavwSv4RY9m"
      }
    },
    {
      "cell_type": "markdown",
      "source": [],
      "metadata": {
        "id": "tFW64TjaKe0K"
      }
    },
    {
      "cell_type": "markdown",
      "source": [
        "write a python program (WAPP) to make a square of number 6 using number pattern (6 x 6) ?"
      ],
      "metadata": {
        "id": "Zcf1BzlhKgtg"
      }
    },
    {
      "cell_type": "code",
      "source": [
        "# WAPP to make a square of number 6 using number pattern (6 x 6)\n",
        "\n",
        "# Loop for 6 rows\n",
        "for i in range(6):\n",
        "    # Loop for 6 columns\n",
        "    for j in range(6):\n",
        "        print(6, end=\" \")\n",
        "    print()  # Move to next line after each row\n"
      ],
      "metadata": {
        "id": "CrgwJ2cOPyxh",
        "colab": {
          "base_uri": "https://localhost:8080/"
        },
        "outputId": "32329f16-b2f9-4571-84a9-2dd39e01800a"
      },
      "execution_count": 1,
      "outputs": [
        {
          "output_type": "stream",
          "name": "stdout",
          "text": [
            "6 6 6 6 6 6 \n",
            "6 6 6 6 6 6 \n",
            "6 6 6 6 6 6 \n",
            "6 6 6 6 6 6 \n",
            "6 6 6 6 6 6 \n",
            "6 6 6 6 6 6 \n"
          ]
        }
      ]
    },
    {
      "cell_type": "markdown",
      "source": [],
      "metadata": {
        "id": "PEmxVfUHNDgo"
      }
    },
    {
      "cell_type": "markdown",
      "source": [
        "WAPP to calculate factorial of a number using loop ?"
      ],
      "metadata": {
        "id": "2Yuq9oJcNFP3"
      }
    },
    {
      "cell_type": "code",
      "source": [
        "# WAPP to calculate factorial of a number using for loop\n",
        "\n",
        "# Take input from user\n",
        "num = int(input(\"Enter a number: \"))\n",
        "\n",
        "# Initialize factorial variable\n",
        "fact = 1\n",
        "\n",
        "# Loop from 1 to num\n",
        "for i in range(1, num + 1):\n",
        "    fact = fact * i\n",
        "\n",
        "# Print result\n",
        "print(\"Factorial of\", num, \"is:\", fact)\n"
      ],
      "metadata": {
        "id": "rY7rBWxAPyNm",
        "colab": {
          "base_uri": "https://localhost:8080/"
        },
        "outputId": "f54e9d8d-2c77-4953-9306-c59761a21888"
      },
      "execution_count": 6,
      "outputs": [
        {
          "output_type": "stream",
          "name": "stdout",
          "text": [
            "Enter a number: 5\n",
            "Factorial of 5 is: 120\n"
          ]
        }
      ]
    },
    {
      "cell_type": "code",
      "source": [
        "# WAPP to calculate factorial of a number using while loop\n",
        "\n",
        "# Take input from user\n",
        "num = int(input(\"Enter a number: \"))\n",
        "\n",
        "# Initialize factorial variable\n",
        "fact = 1\n",
        "i = 1\n",
        "\n",
        "# While loop\n",
        "while i <= num:\n",
        "    fact = fact * i\n",
        "    i = i + 1\n",
        "\n",
        "# Print result\n",
        "print(\"Factorial of\", num, \"is:\", fact)\n"
      ],
      "metadata": {
        "colab": {
          "base_uri": "https://localhost:8080/"
        },
        "id": "Tc2YjwT0NIcg",
        "outputId": "38ce9196-5f81-4716-fcac-eae23ae7e1db"
      },
      "execution_count": 8,
      "outputs": [
        {
          "output_type": "stream",
          "name": "stdout",
          "text": [
            "Enter a number: 6\n",
            "Factorial of 6 is: 720\n"
          ]
        }
      ]
    },
    {
      "cell_type": "markdown",
      "source": [],
      "metadata": {
        "id": "h1cD1rA_RNFj"
      }
    },
    {
      "cell_type": "markdown",
      "source": [
        "Write a Python program to simulate a simple password system:                        \n",
        " User has 3 attempts to enter the correct password “admin123”.                  \n",
        " If correct, print “Access -- Granted”.                                            \n",
        " If incorrect after 3 attempts, print “Access Denied”."
      ],
      "metadata": {
        "id": "L_MqdrWSROnF"
      }
    },
    {
      "cell_type": "code",
      "source": [
        "# WAPP to simulate a simple password system\n",
        "\n",
        "# Correct password\n",
        "correct_password = \"admin123\"\n",
        "\n",
        "# Maximum attempts\n",
        "attempts = 3\n",
        "\n",
        "# Loop for 3 attempts\n",
        "for i in range(attempts):\n",
        "    password = input(\"Enter password: \")\n",
        "\n",
        "    if password == correct_password:\n",
        "        print(\"Access Granted\")\n",
        "        break\n",
        "    else:\n",
        "        print(\"Wrong password! Attempts left:\", attempts - i - 1)\n",
        "\n",
        "# If not correct in 3 attempts\n",
        "else:\n",
        "    print(\"Access Denied\")\n"
      ],
      "metadata": {
        "colab": {
          "base_uri": "https://localhost:8080/"
        },
        "id": "P6NJh9DdQ59j",
        "outputId": "df29b33e-3931-4f17-ef63-fd87073df40e"
      },
      "execution_count": 9,
      "outputs": [
        {
          "output_type": "stream",
          "name": "stdout",
          "text": [
            "Enter password: 6\n",
            "Wrong password! Attempts left: 2\n",
            "Enter password: admin123\n",
            "Access Granted\n"
          ]
        }
      ]
    }
  ],
  "metadata": {
    "colab": {
      "provenance": []
    },
    "kernelspec": {
      "display_name": "Python 3",
      "name": "python3"
    },
    "language_info": {
      "name": "python"
    }
  },
  "nbformat": 4,
  "nbformat_minor": 0
}