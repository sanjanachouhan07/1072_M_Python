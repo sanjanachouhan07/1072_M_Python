{
  "cells": [
    {
      "cell_type": "markdown",
      "metadata": {
        "id": "YLJ1njoS8U4x"
      },
      "source": [
        "**check the conditions if they are true or false?**"
      ]
    },
    {
      "cell_type": "code",
      "execution_count": null,
      "metadata": {
        "colab": {
          "background_save": true,
          "base_uri": "https://localhost:8080/"
        },
        "id": "R3v1yXoW6NAB",
        "outputId": "faef01c2-6b93-41dd-c0df-a30859c293c6"
      },
      "outputs": [
        {
          "name": "stdout",
          "output_type": "stream",
          "text": [
            "True\n"
          ]
        }
      ],
      "source": [
        "a=10\n",
        "b=a\n",
        "print(a is b)"
      ]
    },
    {
      "cell_type": "code",
      "execution_count": null,
      "metadata": {
        "colab": {
          "background_save": true,
          "base_uri": "https://localhost:8080/"
        },
        "id": "Ba-Tucd06TVA",
        "outputId": "139ee3c5-7939-4a11-8f99-1ab0ccf41bf3"
      },
      "outputs": [
        {
          "name": "stdout",
          "output_type": "stream",
          "text": [
            "True\n"
          ]
        }
      ],
      "source": [
        "a=30\n",
        "b=30\n",
        "print(a is b)"
      ]
    },
    {
      "cell_type": "code",
      "execution_count": null,
      "metadata": {
        "colab": {
          "background_save": true,
          "base_uri": "https://localhost:8080/"
        },
        "id": "m6eiHmKO7-wY",
        "outputId": "86b8d241-a1de-45f3-fa8e-019e4818f924"
      },
      "outputs": [
        {
          "name": "stdout",
          "output_type": "stream",
          "text": [
            "False\n"
          ]
        }
      ],
      "source": [
        "a=300\n",
        "b=300\n",
        "print(a is b)"
      ]
    }
  ],
  "metadata": {
    "colab": {
      "provenance": []
    },
    "kernelspec": {
      "display_name": "Python 3",
      "name": "python3"
    },
    "language_info": {
      "name": "python"
    }
  },
  "nbformat": 4,
  "nbformat_minor": 0
}