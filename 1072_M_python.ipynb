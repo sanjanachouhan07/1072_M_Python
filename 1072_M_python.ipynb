{
  "cells": [
    {
      "cell_type": "markdown",
      "source": [],
      "metadata": {
        "id": "GkSAKdA3gF45"
      }
    },
    {
      "cell_type": "markdown",
      "source": [
        "Write a Python program to swap two variables using a temporary variable andwithout using a temporary variable?"
      ],
      "metadata": {
        "id": "ATHP5vxsOW0y"
      }
    },
    {
      "cell_type": "code",
      "source": [
        "# Swapping two variables in Python\n",
        "\n",
        "# Using a temporary variable\n",
        "print(\"---- Using a Temporary Variable ----\")\n",
        "a = 10\n",
        "b = 20\n",
        "print(\"Before Swap: a =\", a, \", b =\", b)\n",
        "\n",
        "temp = a\n",
        "a = b\n",
        "b = temp\n",
        "\n",
        "print(\"After Swap: a =\", a, \", b =\", b)\n",
        "\n",
        "\n",
        "# Without using a temporary variable\n",
        "print(\"\\n---- Without Using a Temporary Variable ----\")\n",
        "x = 5\n",
        "y = 15\n",
        "print(\"Before Swap: x =\", x, \", y =\", y)\n",
        "\n",
        "# Method 1: Using arithmetic operators\n",
        "x = x + y\n",
        "y = x - y\n",
        "x = x - y\n",
        "\n",
        "print(\"After Swap (using arithmetic): x =\", x, \", y =\", y)\n",
        "\n",
        "# Method 2: Using Python's tuple unpacking (best way in Python)\n",
        "x, y = y, x\n",
        "print(\"After Swap (using tuple unpacking): x =\", x, \", y =\", y)\n"
      ],
      "metadata": {
        "id": "zjek5y6KgGlI",
        "colab": {
          "base_uri": "https://localhost:8080/"
        },
        "outputId": "191895ad-efab-47de-9b80-760d24a620bc"
      },
      "execution_count": 1,
      "outputs": [
        {
          "output_type": "stream",
          "name": "stdout",
          "text": [
            "---- Using a Temporary Variable ----\n",
            "Before Swap: a = 10 , b = 20\n",
            "After Swap: a = 20 , b = 10\n",
            "\n",
            "---- Without Using a Temporary Variable ----\n",
            "Before Swap: x = 5 , y = 15\n",
            "After Swap (using arithmetic): x = 15 , y = 5\n",
            "After Swap (using tuple unpacking): x = 5 , y = 15\n"
          ]
        }
      ]
    }
  ],
  "metadata": {
    "colab": {
      "provenance": []
    },
    "kernelspec": {
      "display_name": "Python 3",
      "name": "python3"
    },
    "language_info": {
      "name": "python"
    }
  },
  "nbformat": 4,
  "nbformat_minor": 0
}