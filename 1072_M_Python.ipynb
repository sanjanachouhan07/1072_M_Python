{
  "nbformat": 4,
  "nbformat_minor": 0,
  "metadata": {
    "colab": {
      "provenance": []
    },
    "kernelspec": {
      "name": "python3",
      "display_name": "Python 3"
    },
    "language_info": {
      "name": "python"
    }
  },
  "cells": [
    {
      "cell_type": "markdown",
      "source": [
        "**write a program to print right angle triangle using while loop?**"
      ],
      "metadata": {
        "id": "NUyz0VNtS7ng"
      }
    },
    {
      "cell_type": "code",
      "execution_count": 1,
      "metadata": {
        "colab": {
          "base_uri": "https://localhost:8080/"
        },
        "id": "IhXtdE4gSfV6",
        "outputId": "ba685bc4-541b-42e3-faae-83ab1d466a9f"
      },
      "outputs": [
        {
          "output_type": "stream",
          "name": "stdout",
          "text": [
            "Enter number of rows: 8\n",
            "* \n",
            "* * \n",
            "* * * \n",
            "* * * * \n",
            "* * * * * \n",
            "* * * * * * \n",
            "* * * * * * * \n",
            "* * * * * * * * \n"
          ]
        }
      ],
      "source": [
        "# Program to print right angle triangle using while loop\n",
        "\n",
        "# number of rows\n",
        "n = int(input(\"Enter number of rows: \"))\n",
        "\n",
        "i = 1\n",
        "while i <= n:\n",
        "    j = 1\n",
        "    while j <= i:\n",
        "        print(\"*\", end=\" \")   # print star\n",
        "        j += 1\n",
        "    print()   # new line after each row\n",
        "    i += 1\n"
      ]
    },
    {
      "cell_type": "code",
      "source": [
        "#swaping two numbers\n",
        "a=10\n",
        "b=20\n",
        "print(\"before swap: a:\",a,\"b:\",b)\n",
        "temp=a\n",
        "a=b\n",
        "b=temp\n",
        "print(\"after swap: a:\",a,\"b:\",b)"
      ],
      "metadata": {
        "colab": {
          "base_uri": "https://localhost:8080/"
        },
        "id": "RMA8SjkRS6in",
        "outputId": "e63e7863-b75a-4e4c-ee1c-49129adbc4bc"
      },
      "execution_count": 2,
      "outputs": [
        {
          "output_type": "stream",
          "name": "stdout",
          "text": [
            "before swap: a: 10 b: 20\n",
            "after swap: a: 20 b: 10\n"
          ]
        }
      ]
    },
    {
      "cell_type": "markdown",
      "source": [
        "**wirte a program to chek is any number is divisible by 7 or not**"
      ],
      "metadata": {
        "id": "J3RWSSqgWzD1"
      }
    },
    {
      "cell_type": "code",
      "source": [
        "# Program to check if a number is divisible by 7\n",
        "\n",
        "# Taking input from user\n",
        "num = int(input(\"Enter a number: \"))\n",
        "\n",
        "# Checking divisibility\n",
        "if num % 7 == 0:\n",
        "    print(num, \"is divisible by 7\")\n",
        "else:\n",
        "    print(num, \"is not divisible by 7\")\n",
        "\n"
      ],
      "metadata": {
        "colab": {
          "base_uri": "https://localhost:8080/"
        },
        "id": "4ob3lAECXJt0",
        "outputId": "0d0d467e-a55c-4bc8-caf6-0d75252fe15c"
      },
      "execution_count": 17,
      "outputs": [
        {
          "output_type": "stream",
          "name": "stdout",
          "text": [
            "Enter a number: 5\n",
            "5 is not divisible by 7\n"
          ]
        }
      ]
    },
    {
      "cell_type": "markdown",
      "source": [
        "**to check if a number is prime or not**"
      ],
      "metadata": {
        "id": "5Buyo858ahQK"
      }
    },
    {
      "cell_type": "code",
      "source": [
        "# Program to check if a number is prime or not\n",
        "\n",
        "# Taking input from user\n",
        "num = int(input(\"Enter a number: \"))\n",
        "\n",
        "# Prime numbers are greater than 1\n",
        "if num > 1:\n",
        "    is_prime = True\n",
        "\n",
        "    # Check divisibility from 2 to sqrt(num)\n",
        "    for i in range(2, int(num**0.5) + 1):\n",
        "        if num % i == 0:\n",
        "            is_prime = False\n",
        "            break\n",
        "\n",
        "    if is_prime:\n",
        "        print(num, \"is a prime number\")\n",
        "    else:\n",
        "        print(num, \"is not a prime number\")\n",
        "else:\n",
        "    print(num, \"is not a prime number\")\n"
      ],
      "metadata": {
        "colab": {
          "base_uri": "https://localhost:8080/"
        },
        "id": "GdOmkxtQarJy",
        "outputId": "cd965d5f-29b5-49b5-982a-786e2de4270a"
      },
      "execution_count": 19,
      "outputs": [
        {
          "output_type": "stream",
          "name": "stdout",
          "text": [
            "Enter a number: 39\n",
            "39 is not a prime number\n"
          ]
        }
      ]
    },
    {
      "cell_type": "markdown",
      "source": [
        "**to reverse a string**"
      ],
      "metadata": {
        "id": "wt21aDdBbAS8"
      }
    },
    {
      "cell_type": "code",
      "source": [
        "# Program to reverse a string using slicing\n",
        "\n",
        "text = input(\"Enter a string: \")\n",
        "reversed_text = text[::-1]\n",
        "\n",
        "print(\"Reversed string:\", reversed_text)\n"
      ],
      "metadata": {
        "colab": {
          "base_uri": "https://localhost:8080/"
        },
        "id": "sI6xrERJbE5p",
        "outputId": "c9704946-687b-4e51-94d8-4173a2e2a75f"
      },
      "execution_count": 20,
      "outputs": [
        {
          "output_type": "stream",
          "name": "stdout",
          "text": [
            "Enter a string: hello my name is jay jay\n",
            "Reversed string: yaj yaj si eman ym olleh\n"
          ]
        }
      ]
    }
  ]
}